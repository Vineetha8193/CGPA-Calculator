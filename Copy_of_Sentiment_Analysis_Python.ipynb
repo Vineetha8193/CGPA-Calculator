{
  "metadata": {
    "kernelspec": {
      "language": "python",
      "display_name": "Python 3",
      "name": "python3"
    },
    "language_info": {
      "name": "python",
      "version": "3.7.12",
      "mimetype": "text/x-python",
      "codemirror_mode": {
        "name": "ipython",
        "version": 3
      },
      "pygments_lexer": "ipython3",
      "nbconvert_exporter": "python",
      "file_extension": ".py"
    },
    "kaggle": {
      "accelerator": "none",
      "dataSources": [
        {
          "sourceId": 2157,
          "sourceType": "datasetVersion",
          "datasetId": 18
        }
      ],
      "dockerImageVersionId": 30184,
      "isInternetEnabled": false,
      "language": "python",
      "sourceType": "notebook",
      "isGpuEnabled": false
    },
    "colab": {
      "provenance": [],
      "include_colab_link": true
    }
  },
  "nbformat_minor": 0,
  "nbformat": 4,
  "cells": [
    {
      "cell_type": "markdown",
      "metadata": {
        "id": "view-in-github",
        "colab_type": "text"
      },
      "source": [
        "<a href=\"https://colab.research.google.com/github/Vineetha8193/CGPA-Calculator/blob/main/Copy_of_Sentiment_Analysis_Python.ipynb\" target=\"_parent\"><img src=\"https://colab.research.google.com/assets/colab-badge.svg\" alt=\"Open In Colab\"/></a>"
      ]
    },
    {
      "source": [
        "\n",
        "# IMPORTANT: RUN THIS CELL IN ORDER TO IMPORT YOUR KAGGLE DATA SOURCES\n",
        "# TO THE CORRECT LOCATION (/kaggle/input) IN YOUR NOTEBOOK,\n",
        "# THEN FEEL FREE TO DELETE THIS CELL.\n",
        "# NOTE: THIS NOTEBOOK ENVIRONMENT DIFFERS FROM KAGGLE'S PYTHON\n",
        "# ENVIRONMENT SO THERE MAY BE MISSING LIBRARIES USED BY YOUR\n",
        "# NOTEBOOK.\n",
        "\n",
        "import os\n",
        "import sys\n",
        "from tempfile import NamedTemporaryFile\n",
        "from urllib.request import urlopen\n",
        "from urllib.parse import unquote, urlparse\n",
        "from urllib.error import HTTPError\n",
        "from zipfile import ZipFile\n",
        "import tarfile\n",
        "import shutil\n",
        "\n",
        "CHUNK_SIZE = 40960\n",
        "DATA_SOURCE_MAPPING = 'amazon-fine-food-reviews:https%3A%2F%2Fstorage.googleapis.com%2Fkaggle-data-sets%2F18%2F2157%2Fbundle%2Farchive.zip%3FX-Goog-Algorithm%3DGOOG4-RSA-SHA256%26X-Goog-Credential%3Dgcp-kaggle-com%2540kaggle-161607.iam.gserviceaccount.com%252F20240916%252Fauto%252Fstorage%252Fgoog4_request%26X-Goog-Date%3D20240916T083918Z%26X-Goog-Expires%3D259200%26X-Goog-SignedHeaders%3Dhost%26X-Goog-Signature%3D0b074df28838be6958f1a83618f4508854b1afc006be4a13def9ecf4116987a1e4a22a9c3d93b5306725748a31c6e0660ab41b1430f688cef3eecd84a1b6333c41aaf844e7ff5dc479d13bd5bab2d986e0e71ba4aacd9184d7496e35a8a5f0af823a920171c311cde764a9c08b2a613ba85f500d8f0640619fd9fee4b08e3f4229c9c50affd95a378d036676b99b5ef060626eecb40a6d55bc10cfd73303e681173a444d47e8a667afd8c802985c7130ce9d54a5818ee1453a1bb2d27d962e456e43dbde43ea7f63a52a1d203ad60e099d57afc00dd7c15e88fdd7e204f5790abad73c5d8076ff3bed3757a25ac91eaa2b7e4a0875381168f1b71b4b5df25950'\n",
        "\n",
        "KAGGLE_INPUT_PATH='/kaggle/input'\n",
        "KAGGLE_WORKING_PATH='/kaggle/working'\n",
        "KAGGLE_SYMLINK='kaggle'\n",
        "\n",
        "!umount /kaggle/input/ 2> /dev/null\n",
        "shutil.rmtree('/kaggle/input', ignore_errors=True)\n",
        "os.makedirs(KAGGLE_INPUT_PATH, 0o777, exist_ok=True)\n",
        "os.makedirs(KAGGLE_WORKING_PATH, 0o777, exist_ok=True)\n",
        "\n",
        "try:\n",
        "  os.symlink(KAGGLE_INPUT_PATH, os.path.join(\"..\", 'input'), target_is_directory=True)\n",
        "except FileExistsError:\n",
        "  pass\n",
        "try:\n",
        "  os.symlink(KAGGLE_WORKING_PATH, os.path.join(\"..\", 'working'), target_is_directory=True)\n",
        "except FileExistsError:\n",
        "  pass\n",
        "\n",
        "for data_source_mapping in DATA_SOURCE_MAPPING.split(','):\n",
        "    directory, download_url_encoded = data_source_mapping.split(':')\n",
        "    download_url = unquote(download_url_encoded)\n",
        "    filename = urlparse(download_url).path\n",
        "    destination_path = os.path.join(KAGGLE_INPUT_PATH, directory)\n",
        "    try:\n",
        "        with urlopen(download_url) as fileres, NamedTemporaryFile() as tfile:\n",
        "            total_length = fileres.headers['content-length']\n",
        "            print(f'Downloading {directory}, {total_length} bytes compressed')\n",
        "            dl = 0\n",
        "            data = fileres.read(CHUNK_SIZE)\n",
        "            while len(data) > 0:\n",
        "                dl += len(data)\n",
        "                tfile.write(data)\n",
        "                done = int(50 * dl / int(total_length))\n",
        "                sys.stdout.write(f\"\\r[{'=' * done}{' ' * (50-done)}] {dl} bytes downloaded\")\n",
        "                sys.stdout.flush()\n",
        "                data = fileres.read(CHUNK_SIZE)\n",
        "            if filename.endswith('.zip'):\n",
        "              with ZipFile(tfile) as zfile:\n",
        "                zfile.extractall(destination_path)\n",
        "            else:\n",
        "              with tarfile.open(tfile.name) as tarfile:\n",
        "                tarfile.extractall(destination_path)\n",
        "            print(f'\\nDownloaded and uncompressed: {directory}')\n",
        "    except HTTPError as e:\n",
        "        print(f'Failed to load (likely expired) {download_url} to path {destination_path}')\n",
        "        continue\n",
        "    except OSError as e:\n",
        "        print(f'Failed to load {download_url} to path {destination_path}')\n",
        "        continue\n",
        "\n",
        "print('Data source import complete.')\n"
      ],
      "metadata": {
        "id": "BiPvPymH_LDY"
      },
      "cell_type": "code",
      "outputs": [],
      "execution_count": null
    },
    {
      "cell_type": "markdown",
      "source": [
        "# Sentiment Analysis in Python\n"
      ],
      "metadata": {
        "_uuid": "8f2839f25d086af736a60e9eeb907d3b93b6e0e5",
        "_cell_guid": "b1076dfc-b9ad-4769-8c92-a6c4dae69d19",
        "id": "ocrwcEeh_LDc"
      }
    },
    {
      "cell_type": "markdown",
      "source": [
        "# Step 0. Read in Data and NLTK Basics"
      ],
      "metadata": {
        "id": "3ajB6H49_LDf"
      }
    },
    {
      "cell_type": "code",
      "source": [
        "import pandas as pd\n",
        "import numpy as np\n",
        "import matplotlib.pyplot as plt\n",
        "import seaborn as sns\n",
        "\n",
        "plt.style.use('ggplot')\n",
        "\n",
        "import nltk\n",
        "\n"
      ],
      "metadata": {
        "execution": {
          "iopub.status.busy": "2024-09-10T06:45:26.509954Z",
          "iopub.execute_input": "2024-09-10T06:45:26.510364Z",
          "iopub.status.idle": "2024-09-10T06:45:26.517112Z",
          "shell.execute_reply.started": "2024-09-10T06:45:26.51032Z",
          "shell.execute_reply": "2024-09-10T06:45:26.515992Z"
        },
        "trusted": true,
        "id": "1o4Q8Zxt_LDf"
      },
      "execution_count": null,
      "outputs": []
    },
    {
      "cell_type": "code",
      "source": [
        "# Read in data\n",
        "df = pd.read_csv('../input/amazon-fine-food-reviews/Reviews.csv')\n",
        "print(df.shape)\n",
        "df = df.head(500)\n",
        "print(df.shape)"
      ],
      "metadata": {
        "execution": {
          "iopub.status.busy": "2024-09-10T06:45:26.519239Z",
          "iopub.execute_input": "2024-09-10T06:45:26.519605Z",
          "iopub.status.idle": "2024-09-10T06:45:31.631701Z",
          "shell.execute_reply.started": "2024-09-10T06:45:26.519567Z",
          "shell.execute_reply": "2024-09-10T06:45:31.630577Z"
        },
        "trusted": true,
        "id": "Gk18LKi3_LDf",
        "outputId": "c2f78763-7107-4a19-db10-b5c9211f14e4"
      },
      "execution_count": null,
      "outputs": [
        {
          "name": "stdout",
          "text": "(568454, 10)\n(500, 10)\n",
          "output_type": "stream"
        }
      ]
    },
    {
      "cell_type": "code",
      "source": [
        "df.head()"
      ],
      "metadata": {
        "execution": {
          "iopub.status.busy": "2024-09-10T06:45:31.633082Z",
          "iopub.execute_input": "2024-09-10T06:45:31.633388Z",
          "iopub.status.idle": "2024-09-10T06:45:31.66039Z",
          "shell.execute_reply.started": "2024-09-10T06:45:31.633351Z",
          "shell.execute_reply": "2024-09-10T06:45:31.659213Z"
        },
        "trusted": true,
        "id": "CilCOd2n_LDh",
        "outputId": "94db11e9-9d15-40dc-b1d4-81b6f650e5ae"
      },
      "execution_count": null,
      "outputs": [
        {
          "execution_count": 5,
          "output_type": "execute_result",
          "data": {
            "text/plain": "   Id   ProductId          UserId                      ProfileName  \\\n0   1  B001E4KFG0  A3SGXH7AUHU8GW                       delmartian   \n1   2  B00813GRG4  A1D87F6ZCVE5NK                           dll pa   \n2   3  B000LQOCH0   ABXLMWJIXXAIN  Natalia Corres \"Natalia Corres\"   \n3   4  B000UA0QIQ  A395BORC6FGVXV                             Karl   \n4   5  B006K2ZZ7K  A1UQRSCLF8GW1T    Michael D. Bigham \"M. Wassir\"   \n\n   HelpfulnessNumerator  HelpfulnessDenominator  Score        Time  \\\n0                     1                       1      5  1303862400   \n1                     0                       0      1  1346976000   \n2                     1                       1      4  1219017600   \n3                     3                       3      2  1307923200   \n4                     0                       0      5  1350777600   \n\n                 Summary                                               Text  \n0  Good Quality Dog Food  I have bought several of the Vitality canned d...  \n1      Not as Advertised  Product arrived labeled as Jumbo Salted Peanut...  \n2  \"Delight\" says it all  This is a confection that has been around a fe...  \n3         Cough Medicine  If you are looking for the secret ingredient i...  \n4            Great taffy  Great taffy at a great price.  There was a wid...  ",
            "text/html": "<div>\n<style scoped>\n    .dataframe tbody tr th:only-of-type {\n        vertical-align: middle;\n    }\n\n    .dataframe tbody tr th {\n        vertical-align: top;\n    }\n\n    .dataframe thead th {\n        text-align: right;\n    }\n</style>\n<table border=\"1\" class=\"dataframe\">\n  <thead>\n    <tr style=\"text-align: right;\">\n      <th></th>\n      <th>Id</th>\n      <th>ProductId</th>\n      <th>UserId</th>\n      <th>ProfileName</th>\n      <th>HelpfulnessNumerator</th>\n      <th>HelpfulnessDenominator</th>\n      <th>Score</th>\n      <th>Time</th>\n      <th>Summary</th>\n      <th>Text</th>\n    </tr>\n  </thead>\n  <tbody>\n    <tr>\n      <th>0</th>\n      <td>1</td>\n      <td>B001E4KFG0</td>\n      <td>A3SGXH7AUHU8GW</td>\n      <td>delmartian</td>\n      <td>1</td>\n      <td>1</td>\n      <td>5</td>\n      <td>1303862400</td>\n      <td>Good Quality Dog Food</td>\n      <td>I have bought several of the Vitality canned d...</td>\n    </tr>\n    <tr>\n      <th>1</th>\n      <td>2</td>\n      <td>B00813GRG4</td>\n      <td>A1D87F6ZCVE5NK</td>\n      <td>dll pa</td>\n      <td>0</td>\n      <td>0</td>\n      <td>1</td>\n      <td>1346976000</td>\n      <td>Not as Advertised</td>\n      <td>Product arrived labeled as Jumbo Salted Peanut...</td>\n    </tr>\n    <tr>\n      <th>2</th>\n      <td>3</td>\n      <td>B000LQOCH0</td>\n      <td>ABXLMWJIXXAIN</td>\n      <td>Natalia Corres \"Natalia Corres\"</td>\n      <td>1</td>\n      <td>1</td>\n      <td>4</td>\n      <td>1219017600</td>\n      <td>\"Delight\" says it all</td>\n      <td>This is a confection that has been around a fe...</td>\n    </tr>\n    <tr>\n      <th>3</th>\n      <td>4</td>\n      <td>B000UA0QIQ</td>\n      <td>A395BORC6FGVXV</td>\n      <td>Karl</td>\n      <td>3</td>\n      <td>3</td>\n      <td>2</td>\n      <td>1307923200</td>\n      <td>Cough Medicine</td>\n      <td>If you are looking for the secret ingredient i...</td>\n    </tr>\n    <tr>\n      <th>4</th>\n      <td>5</td>\n      <td>B006K2ZZ7K</td>\n      <td>A1UQRSCLF8GW1T</td>\n      <td>Michael D. Bigham \"M. Wassir\"</td>\n      <td>0</td>\n      <td>0</td>\n      <td>5</td>\n      <td>1350777600</td>\n      <td>Great taffy</td>\n      <td>Great taffy at a great price.  There was a wid...</td>\n    </tr>\n  </tbody>\n</table>\n</div>"
          },
          "metadata": {}
        }
      ]
    },
    {
      "cell_type": "markdown",
      "source": [
        "## Quick EDA"
      ],
      "metadata": {
        "id": "lE1rbnJV_LDh"
      }
    },
    {
      "cell_type": "code",
      "source": [
        "ax = df['Score'].value_counts().sort_index() \\\n",
        "    .plot(kind='bar',\n",
        "          title='Count of Reviews by Stars',\n",
        "          figsize=(10, 5))\n",
        "ax.set_xlabel('Review Stars')\n",
        "plt.show()"
      ],
      "metadata": {
        "execution": {
          "iopub.status.busy": "2024-09-10T06:45:31.662977Z",
          "iopub.execute_input": "2024-09-10T06:45:31.663292Z",
          "iopub.status.idle": "2024-09-10T06:45:31.896454Z",
          "shell.execute_reply.started": "2024-09-10T06:45:31.663229Z",
          "shell.execute_reply": "2024-09-10T06:45:31.895448Z"
        },
        "trusted": true,
        "id": "JdGlvxq9_LDi",
        "outputId": "2d306a61-c41d-4a39-8004-4df22b1c6015"
      },
      "execution_count": null,
      "outputs": [
        {
          "output_type": "display_data",
          "data": {
            "text/plain": "<Figure size 720x360 with 1 Axes>",
            "image/png": "[encoded data removed]"
          },
          "metadata": {}
        }
      ]
    },
    {
      "cell_type": "markdown",
      "source": [
        "## Basic NLTK"
      ],
      "metadata": {
        "id": "fiqPIk9r_LDi"
      }
    },
    {
      "cell_type": "code",
      "source": [
        "example = df['Text'][50]\n",
        "print(example)"
      ],
      "metadata": {
        "execution": {
          "iopub.status.busy": "2024-09-10T06:45:31.897986Z",
          "iopub.execute_input": "2024-09-10T06:45:31.898358Z",
          "iopub.status.idle": "2024-09-10T06:45:31.905185Z",
          "shell.execute_reply.started": "2024-09-10T06:45:31.898306Z",
          "shell.execute_reply": "2024-09-10T06:45:31.904008Z"
        },
        "trusted": true,
        "id": "XSBnTAZJ_LDi",
        "outputId": "cef72f29-5411-4bbb-88fd-7c633aa2284a"
      },
      "execution_count": null,
      "outputs": [
        {
          "name": "stdout",
          "text": "This oatmeal is not good. Its mushy, soft, I don't like it. Quaker Oats is the way to go.\n",
          "output_type": "stream"
        }
      ]
    },
    {
      "cell_type": "code",
      "source": [
        "import nltk\n",
        "print(\"NLTK installed successfully!\")\n"
      ],
      "metadata": {
        "execution": {
          "iopub.status.busy": "2024-09-10T06:45:31.907187Z",
          "iopub.execute_input": "2024-09-10T06:45:31.907574Z",
          "iopub.status.idle": "2024-09-10T06:45:31.922887Z",
          "shell.execute_reply.started": "2024-09-10T06:45:31.907523Z",
          "shell.execute_reply": "2024-09-10T06:45:31.920085Z"
        },
        "trusted": true,
        "id": "tCQbkJnj_LDj",
        "outputId": "5a17575c-b4d4-4371-e0ac-a218ed77cfd1"
      },
      "execution_count": null,
      "outputs": [
        {
          "name": "stdout",
          "text": "NLTK installed successfully!\n",
          "output_type": "stream"
        }
      ]
    },
    {
      "cell_type": "code",
      "source": [
        "tokens = nltk.word_tokenize(example)\n",
        "tokens[:7]"
      ],
      "metadata": {
        "execution": {
          "iopub.status.busy": "2024-09-10T06:45:31.924699Z",
          "iopub.execute_input": "2024-09-10T06:45:31.925081Z",
          "iopub.status.idle": "2024-09-10T06:45:31.953768Z",
          "shell.execute_reply.started": "2024-09-10T06:45:31.925022Z",
          "shell.execute_reply": "2024-09-10T06:45:31.952703Z"
        },
        "trusted": true,
        "id": "ZYZKEblc_LDj",
        "outputId": "819d7ffa-7de9-4001-ea54-cf1c4f06825e"
      },
      "execution_count": null,
      "outputs": [
        {
          "execution_count": 9,
          "output_type": "execute_result",
          "data": {
            "text/plain": "['This', 'oatmeal', 'is', 'not', 'good', '.', 'Its']"
          },
          "metadata": {}
        }
      ]
    },
    {
      "cell_type": "code",
      "source": [
        "tagged = nltk.pos_tag(tokens)\n",
        "tagged[:4]"
      ],
      "metadata": {
        "execution": {
          "iopub.status.busy": "2024-09-10T06:45:31.955214Z",
          "iopub.execute_input": "2024-09-10T06:45:31.955549Z",
          "iopub.status.idle": "2024-09-10T06:45:32.122336Z",
          "shell.execute_reply.started": "2024-09-10T06:45:31.955509Z",
          "shell.execute_reply": "2024-09-10T06:45:32.121222Z"
        },
        "trusted": true,
        "id": "s9Gjuvwo_LDj",
        "outputId": "8ae40fd5-2de9-4e6f-fe3b-a936e95aab52"
      },
      "execution_count": null,
      "outputs": [
        {
          "execution_count": 10,
          "output_type": "execute_result",
          "data": {
            "text/plain": "[('This', 'DT'), ('oatmeal', 'NN'), ('is', 'VBZ'), ('not', 'RB')]"
          },
          "metadata": {}
        }
      ]
    },
    {
      "cell_type": "code",
      "source": [
        "entities = nltk.chunk.ne_chunk(tagged)\n",
        "entities.pprint()"
      ],
      "metadata": {
        "execution": {
          "iopub.status.busy": "2024-09-10T06:45:32.125798Z",
          "iopub.execute_input": "2024-09-10T06:45:32.126108Z",
          "iopub.status.idle": "2024-09-10T06:45:32.297206Z",
          "shell.execute_reply.started": "2024-09-10T06:45:32.126068Z",
          "shell.execute_reply": "2024-09-10T06:45:32.296153Z"
        },
        "trusted": true,
        "id": "qbYHTjU4_LDk",
        "outputId": "f9cc252e-ea11-4cdd-dc78-f21de0fa516a"
      },
      "execution_count": null,
      "outputs": [
        {
          "name": "stdout",
          "text": "(S\n  This/DT\n  oatmeal/NN\n  is/VBZ\n  not/RB\n  good/JJ\n  ./.\n  Its/PRP$\n  mushy/NN\n  ,/,\n  soft/JJ\n  ,/,\n  I/PRP\n  do/VBP\n  n't/RB\n  like/VB\n  it/PRP\n  ./.\n  (ORGANIZATION Quaker/NNP Oats/NNPS)\n  is/VBZ\n  the/DT\n  way/NN\n  to/TO\n  go/VB\n  ./.)\n",
          "output_type": "stream"
        }
      ]
    },
    {
      "cell_type": "markdown",
      "source": [
        "# Step 1. VADER Seniment Scoring\n",
        "\n",
        "We will use NLTK's `SentimentIntensityAnalyzer` to get the neg/neu/pos scores of the text.\n",
        "\n",
        "- This uses a \"bag of words\" approach:\n",
        "    1. Stop words are removed\n",
        "    2. each word is scored and combined to a total score."
      ],
      "metadata": {
        "id": "JyWVI4m0_LDk"
      }
    },
    {
      "cell_type": "code",
      "source": [
        "from nltk.sentiment import SentimentIntensityAnalyzer\n",
        "from tqdm.notebook import tqdm\n",
        "\n",
        "sia = SentimentIntensityAnalyzer()"
      ],
      "metadata": {
        "execution": {
          "iopub.status.busy": "2024-09-10T06:45:32.298701Z",
          "iopub.execute_input": "2024-09-10T06:45:32.299078Z",
          "iopub.status.idle": "2024-09-10T06:45:32.342167Z",
          "shell.execute_reply.started": "2024-09-10T06:45:32.299025Z",
          "shell.execute_reply": "2024-09-10T06:45:32.341115Z"
        },
        "trusted": true,
        "id": "35HmOpQq_LDk",
        "outputId": "fbb623ce-d994-4ed9-dbfd-777616afc81b"
      },
      "execution_count": null,
      "outputs": [
        {
          "name": "stderr",
          "text": "/opt/conda/lib/python3.7/site-packages/nltk/twitter/__init__.py:20: UserWarning: The twython library has not been installed. Some functionality from the twitter package will not be available.\n  warnings.warn(\"The twython library has not been installed. \"\n",
          "output_type": "stream"
        }
      ]
    },
    {
      "cell_type": "code",
      "source": [
        "sia.polarity_scores('its very good!')"
      ],
      "metadata": {
        "execution": {
          "iopub.status.busy": "2024-09-10T06:45:32.343487Z",
          "iopub.execute_input": "2024-09-10T06:45:32.343747Z",
          "iopub.status.idle": "2024-09-10T06:45:32.351501Z",
          "shell.execute_reply.started": "2024-09-10T06:45:32.343713Z",
          "shell.execute_reply": "2024-09-10T06:45:32.350361Z"
        },
        "trusted": true,
        "id": "Nk6Z21yW_LDk",
        "outputId": "c313ae41-ee70-44fe-b382-72c7e7c407b9"
      },
      "execution_count": null,
      "outputs": [
        {
          "execution_count": 13,
          "output_type": "execute_result",
          "data": {
            "text/plain": "{'neg': 0.0, 'neu': 0.365, 'pos': 0.635, 'compound': 0.54}"
          },
          "metadata": {}
        }
      ]
    },
    {
      "cell_type": "code",
      "source": [
        "sia.polarity_scores('This is the worst thing ever.')"
      ],
      "metadata": {
        "execution": {
          "iopub.status.busy": "2024-09-10T06:45:32.353173Z",
          "iopub.execute_input": "2024-09-10T06:45:32.353584Z",
          "iopub.status.idle": "2024-09-10T06:45:32.367074Z",
          "shell.execute_reply.started": "2024-09-10T06:45:32.353502Z",
          "shell.execute_reply": "2024-09-10T06:45:32.365877Z"
        },
        "trusted": true,
        "id": "EJsGLBTY_LDl",
        "outputId": "94c599df-9a3f-476b-a1d0-009f599a20eb"
      },
      "execution_count": null,
      "outputs": [
        {
          "execution_count": 14,
          "output_type": "execute_result",
          "data": {
            "text/plain": "{'neg': 0.451, 'neu': 0.549, 'pos': 0.0, 'compound': -0.6249}"
          },
          "metadata": {}
        }
      ]
    },
    {
      "cell_type": "code",
      "source": [
        "sia.polarity_scores(example)"
      ],
      "metadata": {
        "execution": {
          "iopub.status.busy": "2024-09-10T06:45:32.368642Z",
          "iopub.execute_input": "2024-09-10T06:45:32.369105Z",
          "iopub.status.idle": "2024-09-10T06:45:32.381202Z",
          "shell.execute_reply.started": "2024-09-10T06:45:32.36905Z",
          "shell.execute_reply": "2024-09-10T06:45:32.379957Z"
        },
        "trusted": true,
        "id": "cpsfym1u_LDl",
        "outputId": "1743e533-dbcc-40ab-8324-13bb66268a8a"
      },
      "execution_count": null,
      "outputs": [
        {
          "execution_count": 15,
          "output_type": "execute_result",
          "data": {
            "text/plain": "{'neg': 0.22, 'neu': 0.78, 'pos': 0.0, 'compound': -0.5448}"
          },
          "metadata": {}
        }
      ]
    },
    {
      "cell_type": "code",
      "source": [
        "# Run the polarity score on the entire dataset\n",
        "res = {}\n",
        "for i, row in tqdm(df.iterrows(), total=len(df)):\n",
        "    text = row['Text']\n",
        "    myid = row['Id']\n",
        "    res[myid] = sia.polarity_scores(text)"
      ],
      "metadata": {
        "execution": {
          "iopub.status.busy": "2024-09-10T06:45:32.382737Z",
          "iopub.execute_input": "2024-09-10T06:45:32.383043Z",
          "iopub.status.idle": "2024-09-10T06:45:33.162009Z",
          "shell.execute_reply.started": "2024-09-10T06:45:32.383004Z",
          "shell.execute_reply": "2024-09-10T06:45:33.160896Z"
        },
        "trusted": true,
        "id": "qLHFdQZh_LDl",
        "outputId": "efe6e4d6-3126-433c-d235-0eec391e731a",
        "colab": {
          "referenced_widgets": [
            "5db34e88d77f4d93bdc5e3d45ad533d7"
          ]
        }
      },
      "execution_count": null,
      "outputs": [
        {
          "output_type": "display_data",
          "data": {
            "text/plain": "  0%|          | 0/500 [00:00<?, ?it/s]",
            "application/vnd.jupyter.widget-view+json": {
              "version_major": 2,
              "version_minor": 0,
              "model_id": "5db34e88d77f4d93bdc5e3d45ad533d7"
            }
          },
          "metadata": {}
        }
      ]
    },
    {
      "cell_type": "code",
      "source": [
        "vaders = pd.DataFrame(res).T\n",
        "vaders = vaders.reset_index().rename(columns={'index': 'Id'})\n",
        "vaders = vaders.merge(df, how='left')"
      ],
      "metadata": {
        "execution": {
          "iopub.status.busy": "2024-09-10T06:45:33.163289Z",
          "iopub.execute_input": "2024-09-10T06:45:33.163549Z",
          "iopub.status.idle": "2024-09-10T06:45:33.211547Z",
          "shell.execute_reply.started": "2024-09-10T06:45:33.163513Z",
          "shell.execute_reply": "2024-09-10T06:45:33.210648Z"
        },
        "trusted": true,
        "id": "CsnYiyiD_LDl"
      },
      "execution_count": null,
      "outputs": []
    },
    {
      "cell_type": "code",
      "source": [
        "# Now we have sentiment score and metadata\n",
        "vaders.head()"
      ],
      "metadata": {
        "execution": {
          "iopub.status.busy": "2024-09-10T06:45:33.212861Z",
          "iopub.execute_input": "2024-09-10T06:45:33.213136Z",
          "iopub.status.idle": "2024-09-10T06:45:33.235214Z",
          "shell.execute_reply.started": "2024-09-10T06:45:33.213098Z",
          "shell.execute_reply": "2024-09-10T06:45:33.234276Z"
        },
        "trusted": true,
        "id": "KcY_pBCL_LDl",
        "outputId": "54c3ea89-9705-4b1f-fbef-348797df25fe"
      },
      "execution_count": null,
      "outputs": [
        {
          "execution_count": 18,
          "output_type": "execute_result",
          "data": {
            "text/plain": "   Id    neg    neu    pos  compound   ProductId          UserId  \\\n0   1  0.000  0.695  0.305    0.9441  B001E4KFG0  A3SGXH7AUHU8GW   \n1   2  0.079  0.853  0.068   -0.1027  B00813GRG4  A1D87F6ZCVE5NK   \n2   3  0.091  0.754  0.155    0.8265  B000LQOCH0   ABXLMWJIXXAIN   \n3   4  0.000  1.000  0.000    0.0000  B000UA0QIQ  A395BORC6FGVXV   \n4   5  0.000  0.552  0.448    0.9468  B006K2ZZ7K  A1UQRSCLF8GW1T   \n\n                       ProfileName  HelpfulnessNumerator  \\\n0                       delmartian                     1   \n1                           dll pa                     0   \n2  Natalia Corres \"Natalia Corres\"                     1   \n3                             Karl                     3   \n4    Michael D. Bigham \"M. Wassir\"                     0   \n\n   HelpfulnessDenominator  Score        Time                Summary  \\\n0                       1      5  1303862400  Good Quality Dog Food   \n1                       0      1  1346976000      Not as Advertised   \n2                       1      4  1219017600  \"Delight\" says it all   \n3                       3      2  1307923200         Cough Medicine   \n4                       0      5  1350777600            Great taffy   \n\n                                                Text  \n0  I have bought several of the Vitality canned d...  \n1  Product arrived labeled as Jumbo Salted Peanut...  \n2  This is a confection that has been around a fe...  \n3  If you are looking for the secret ingredient i...  \n4  Great taffy at a great price.  There was a wid...  ",
            "text/html": "<div>\n<style scoped>\n    .dataframe tbody tr th:only-of-type {\n        vertical-align: middle;\n    }\n\n    .dataframe tbody tr th {\n        vertical-align: top;\n    }\n\n    .dataframe thead th {\n        text-align: right;\n    }\n</style>\n<table border=\"1\" class=\"dataframe\">\n  <thead>\n    <tr style=\"text-align: right;\">\n      <th></th>\n      <th>Id</th>\n      <th>neg</th>\n      <th>neu</th>\n      <th>pos</th>\n      <th>compound</th>\n      <th>ProductId</th>\n      <th>UserId</th>\n      <th>ProfileName</th>\n      <th>HelpfulnessNumerator</th>\n      <th>HelpfulnessDenominator</th>\n      <th>Score</th>\n      <th>Time</th>\n      <th>Summary</th>\n      <th>Text</th>\n    </tr>\n  </thead>\n  <tbody>\n    <tr>\n      <th>0</th>\n      <td>1</td>\n      <td>0.000</td>\n      <td>0.695</td>\n      <td>0.305</td>\n      <td>0.9441</td>\n      <td>B001E4KFG0</td>\n      <td>A3SGXH7AUHU8GW</td>\n      <td>delmartian</td>\n      <td>1</td>\n      <td>1</td>\n      <td>5</td>\n      <td>1303862400</td>\n      <td>Good Quality Dog Food</td>\n      <td>I have bought several of the Vitality canned d...</td>\n    </tr>\n    <tr>\n      <th>1</th>\n      <td>2</td>\n      <td>0.079</td>\n      <td>0.853</td>\n      <td>0.068</td>\n      <td>-0.1027</td>\n      <td>B00813GRG4</td>\n      <td>A1D87F6ZCVE5NK</td>\n      <td>dll pa</td>\n      <td>0</td>\n      <td>0</td>\n      <td>1</td>\n      <td>1346976000</td>\n      <td>Not as Advertised</td>\n      <td>Product arrived labeled as Jumbo Salted Peanut...</td>\n    </tr>\n    <tr>\n      <th>2</th>\n      <td>3</td>\n      <td>0.091</td>\n      <td>0.754</td>\n      <td>0.155</td>\n      <td>0.8265</td>\n      <td>B000LQOCH0</td>\n      <td>ABXLMWJIXXAIN</td>\n      <td>Natalia Corres \"Natalia Corres\"</td>\n      <td>1</td>\n      <td>1</td>\n      <td>4</td>\n      <td>1219017600</td>\n      <td>\"Delight\" says it all</td>\n      <td>This is a confection that has been around a fe...</td>\n    </tr>\n    <tr>\n      <th>3</th>\n      <td>4</td>\n      <td>0.000</td>\n      <td>1.000</td>\n      <td>0.000</td>\n      <td>0.0000</td>\n      <td>B000UA0QIQ</td>\n      <td>A395BORC6FGVXV</td>\n      <td>Karl</td>\n      <td>3</td>\n      <td>3</td>\n      <td>2</td>\n      <td>1307923200</td>\n      <td>Cough Medicine</td>\n      <td>If you are looking for the secret ingredient i...</td>\n    </tr>\n    <tr>\n      <th>4</th>\n      <td>5</td>\n      <td>0.000</td>\n      <td>0.552</td>\n      <td>0.448</td>\n      <td>0.9468</td>\n      <td>B006K2ZZ7K</td>\n      <td>A1UQRSCLF8GW1T</td>\n      <td>Michael D. Bigham \"M. Wassir\"</td>\n      <td>0</td>\n      <td>0</td>\n      <td>5</td>\n      <td>1350777600</td>\n      <td>Great taffy</td>\n      <td>Great taffy at a great price.  There was a wid...</td>\n    </tr>\n  </tbody>\n</table>\n</div>"
          },
          "metadata": {}
        }
      ]
    },
    {
      "cell_type": "markdown",
      "source": [
        "## Plot VADER results"
      ],
      "metadata": {
        "id": "Z8BuBqmU_LDl"
      }
    },
    {
      "cell_type": "code",
      "source": [
        "ax = sns.barplot(data=vaders, x='Score', y='compound')\n",
        "ax.set_title('Compund Score by Amazon Star Review')\n",
        "plt.show()"
      ],
      "metadata": {
        "execution": {
          "iopub.status.busy": "2024-09-10T06:45:33.236632Z",
          "iopub.execute_input": "2024-09-10T06:45:33.236933Z",
          "iopub.status.idle": "2024-09-10T06:45:33.641008Z",
          "shell.execute_reply.started": "2024-09-10T06:45:33.236881Z",
          "shell.execute_reply": "2024-09-10T06:45:33.639965Z"
        },
        "trusted": true,
        "id": "6IhwwDFP_LDm",
        "outputId": "049eb759-0240-4da1-e2cb-2c1109033a61"
      },
      "execution_count": null,
      "outputs": [
        {
          "output_type": "display_data",
          "data": {
            "text/plain": "<Figure size 432x288 with 1 Axes>",
            "image/png": "[encoded data removed]"
          },
          "metadata": {}
        }
      ]
    },
    {
      "cell_type": "code",
      "source": [
        "fig, axs = plt.subplots(1, 3, figsize=(12, 3))\n",
        "sns.barplot(data=vaders, x='Score', y='pos', ax=axs[0])\n",
        "sns.barplot(data=vaders, x='Score', y='neu', ax=axs[1])\n",
        "sns.barplot(data=vaders, x='Score', y='neg', ax=axs[2])\n",
        "axs[0].set_title('Positive')\n",
        "axs[1].set_title('Neutral')\n",
        "axs[2].set_title('Negative')\n",
        "plt.tight_layout()\n",
        "plt.show()"
      ],
      "metadata": {
        "execution": {
          "iopub.status.busy": "2024-09-10T06:45:33.64237Z",
          "iopub.execute_input": "2024-09-10T06:45:33.64262Z",
          "iopub.status.idle": "2024-09-10T06:45:34.858823Z",
          "shell.execute_reply.started": "2024-09-10T06:45:33.642587Z",
          "shell.execute_reply": "2024-09-10T06:45:34.857793Z"
        },
        "trusted": true,
        "id": "kfDr7LZU_LDm",
        "outputId": "832c953d-fb7f-42b6-cb13-9f207daf6df3"
      },
      "execution_count": null,
      "outputs": [
        {
          "output_type": "display_data",
          "data": {
            "text/plain": "<Figure size 864x216 with 3 Axes>",
            "image/png": "[encoded data removed]"
          },
          "metadata": {}
        }
      ]
    },
    {
      "cell_type": "markdown",
      "source": [
        "# Step 3. Roberta Pretrained Model\n",
        "\n",
        "- Use a model trained of a large corpus of data.\n",
        "- Transformer model accounts for the words but also the context related to other words."
      ],
      "metadata": {
        "id": "wbKhen1i_LDm"
      }
    },
    {
      "cell_type": "code",
      "source": [
        "from transformers import AutoTokenizer\n",
        "from transformers import AutoModelForSequenceClassification\n",
        "from scipy.special import softmax"
      ],
      "metadata": {
        "execution": {
          "iopub.status.busy": "2024-09-10T06:45:34.860127Z",
          "iopub.execute_input": "2024-09-10T06:45:34.860399Z",
          "iopub.status.idle": "2024-09-10T06:45:42.184976Z",
          "shell.execute_reply.started": "2024-09-10T06:45:34.860363Z",
          "shell.execute_reply": "2024-09-10T06:45:42.183954Z"
        },
        "trusted": true,
        "id": "ChDPQ3HM_LDm"
      },
      "execution_count": null,
      "outputs": []
    },
    {
      "cell_type": "code",
      "source": [
        "tokenizer = RobertaTokenizer.from_pretrained('distilroberta-base')\n",
        "model = RobertaForSequenceClassification.from_pretrained('distilroberta-base', num_labels=3)\n"
      ],
      "metadata": {
        "execution": {
          "iopub.status.busy": "2024-09-10T06:45:42.186518Z",
          "iopub.execute_input": "2024-09-10T06:45:42.186795Z",
          "iopub.status.idle": "2024-09-10T06:45:42.642055Z",
          "shell.execute_reply.started": "2024-09-10T06:45:42.186757Z",
          "shell.execute_reply": "2024-09-10T06:45:42.639771Z"
        },
        "trusted": true,
        "id": "KFXYE2dg_LDm",
        "outputId": "6f37b890-a6e4-43c2-c195-291f75c3541b"
      },
      "execution_count": null,
      "outputs": [
        {
          "traceback": [
            "\u001b[0;31m---------------------------------------------------------------------------\u001b[0m",
            "\u001b[0;31mNameError\u001b[0m                                 Traceback (most recent call last)",
            "\u001b[0;32m/tmp/ipykernel_17/2191982979.py\u001b[0m in \u001b[0;36m<module>\u001b[0;34m\u001b[0m\n\u001b[0;32m----> 1\u001b[0;31m \u001b[0mtokenizer\u001b[0m \u001b[0;34m=\u001b[0m \u001b[0mRobertaTokenizer\u001b[0m\u001b[0;34m.\u001b[0m\u001b[0mfrom_pretrained\u001b[0m\u001b[0;34m(\u001b[0m\u001b[0;34m'distilroberta-base'\u001b[0m\u001b[0;34m)\u001b[0m\u001b[0;34m\u001b[0m\u001b[0;34m\u001b[0m\u001b[0m\n\u001b[0m\u001b[1;32m      2\u001b[0m \u001b[0mmodel\u001b[0m \u001b[0;34m=\u001b[0m \u001b[0mRobertaForSequenceClassification\u001b[0m\u001b[0;34m.\u001b[0m\u001b[0mfrom_pretrained\u001b[0m\u001b[0;34m(\u001b[0m\u001b[0;34m'distilroberta-base'\u001b[0m\u001b[0;34m,\u001b[0m \u001b[0mnum_labels\u001b[0m\u001b[0;34m=\u001b[0m\u001b[0;36m3\u001b[0m\u001b[0;34m)\u001b[0m\u001b[0;34m\u001b[0m\u001b[0;34m\u001b[0m\u001b[0m\n",
            "\u001b[0;31mNameError\u001b[0m: name 'RobertaTokenizer' is not defined"
          ],
          "ename": "NameError",
          "evalue": "name 'RobertaTokenizer' is not defined",
          "output_type": "error"
        }
      ]
    },
    {
      "cell_type": "code",
      "source": [
        "pip install git+https://github.com/huggingface/transformers"
      ],
      "metadata": {
        "execution": {
          "iopub.status.busy": "2024-09-10T06:45:42.643099Z",
          "iopub.status.idle": "2024-09-10T06:45:42.64352Z",
          "shell.execute_reply.started": "2024-09-10T06:45:42.643303Z",
          "shell.execute_reply": "2024-09-10T06:45:42.643327Z"
        },
        "trusted": true,
        "id": "y5vou2oW_LDm"
      },
      "execution_count": null,
      "outputs": []
    },
    {
      "cell_type": "code",
      "source": [
        "# VADER results on example\n",
        "print(example)\n",
        "sia.polarity_scores(example)"
      ],
      "metadata": {
        "execution": {
          "iopub.status.busy": "2024-09-10T06:45:42.64472Z",
          "iopub.status.idle": "2024-09-10T06:45:42.645236Z",
          "shell.execute_reply.started": "2024-09-10T06:45:42.644942Z",
          "shell.execute_reply": "2024-09-10T06:45:42.64497Z"
        },
        "trusted": true,
        "id": "t2kjuNRc_LDn"
      },
      "execution_count": null,
      "outputs": []
    },
    {
      "cell_type": "code",
      "source": [
        "from transformers import AutoTokenizer, AutoModelForSequenceClassification\n",
        "import torch\n",
        "from scipy.special import softmax\n",
        "\n",
        "# Load pre-trained RoBERTa model and tokenizer\n",
        "MODEL = \"cardiffnlp/twitter-roberta-base-sentiment\"\n",
        "tokenizer = AutoTokenizer.from_pretrained(MODEL)\n",
        "model = AutoModelForSequenceClassification.from_pretrained(MODEL)\n",
        "\n",
        "# Example text to analyze\n",
        "example = \"I love this product!\"\n",
        "\n",
        "# Tokenize and encode the text\n",
        "encoded_text = tokenizer(example, return_tensors='pt')\n",
        "\n",
        "# Run the model\n",
        "with torch.no_grad():  # Disables gradient calculation for inference\n",
        "    output = model(**encoded_text)\n",
        "\n",
        "# Get the model's output logits and convert them to probabilities\n",
        "scores = output.logits[0].detach().numpy()\n",
        "scores = softmax(scores)\n",
        "\n",
        "# Create a dictionary of the scores\n",
        "scores_dict = {\n",
        "    'roberta_neg': scores[0],\n",
        "    'roberta_neu': scores[1],\n",
        "    'roberta_pos': scores[2]\n",
        "}\n",
        "\n",
        "# Print the sentiment scores\n",
        "print(scores_dict)\n"
      ],
      "metadata": {
        "execution": {
          "iopub.status.busy": "2024-09-10T06:45:42.647286Z",
          "iopub.status.idle": "2024-09-10T06:45:42.647797Z",
          "shell.execute_reply.started": "2024-09-10T06:45:42.647509Z",
          "shell.execute_reply": "2024-09-10T06:45:42.647538Z"
        },
        "trusted": true,
        "id": "VIZlbl7d_LDn"
      },
      "execution_count": null,
      "outputs": []
    },
    {
      "cell_type": "code",
      "source": [
        "import requests\n",
        "response = requests.get(\"https://www.google.com\")\n",
        "print(response.status_code)\n"
      ],
      "metadata": {
        "execution": {
          "iopub.status.busy": "2024-09-10T06:45:42.649251Z",
          "iopub.status.idle": "2024-09-10T06:45:42.649801Z",
          "shell.execute_reply.started": "2024-09-10T06:45:42.649503Z",
          "shell.execute_reply": "2024-09-10T06:45:42.649536Z"
        },
        "trusted": true,
        "id": "hoa2CWXE_LDn"
      },
      "execution_count": null,
      "outputs": []
    },
    {
      "cell_type": "code",
      "source": [
        "# Import required libraries\n",
        "from transformers import RobertaTokenizer, RobertaForSequenceClassification\n",
        "from scipy.special import softmax\n",
        "import torch\n",
        "\n",
        "# Load pre-trained RoBERTa tokenizer and model\n",
        "tokenizer = RobertaTokenizer.from_pretrained('roberta-base')\n",
        "model = RobertaForSequenceClassification.from_pretrained('roberta-base', num_labels=3)\n",
        "\n",
        "# Example text to analyze\n",
        "example = \"i hate it.\"\n",
        "\n",
        "# Encode the input text\n",
        "encoded_text = tokenizer(example, return_tensors='pt')\n",
        "\n",
        "# Run the model to get the output\n",
        "output = model(**encoded_text)\n",
        "\n",
        "# Detach the output logits and convert to numpy array\n",
        "scores = output.logits[0].detach().numpy()\n",
        "\n",
        "# Apply softmax to get probabilities\n",
        "scores = softmax(scores)\n",
        "\n",
        "# Map the scores to corresponding sentiment labels\n",
        "scores_dict = {\n",
        "    'roberta_neg': scores[0],\n",
        "    'roberta_neu': scores[1],\n",
        "    'roberta_pos': scores[2]\n",
        "}\n",
        "\n",
        "# Print the sentiment scores\n",
        "print(scores_dict)\n"
      ],
      "metadata": {
        "execution": {
          "iopub.status.busy": "2024-09-10T06:45:42.651225Z",
          "iopub.status.idle": "2024-09-10T06:45:42.651837Z",
          "shell.execute_reply.started": "2024-09-10T06:45:42.651465Z",
          "shell.execute_reply": "2024-09-10T06:45:42.651493Z"
        },
        "trusted": true,
        "id": "r0gD_lub_LDn"
      },
      "execution_count": null,
      "outputs": []
    },
    {
      "cell_type": "code",
      "source": [
        "# Run for Roberta Model\n",
        "encoded_text = tokenizer(example, return_tensors='pt')\n",
        "output = model(**encoded_text)\n",
        "scores = output[0][0].detach().numpy()\n",
        "scores = softmax(scores)\n",
        "scores_dict = {\n",
        "    'roberta_neg' : scores[0],\n",
        "    'roberta_neu' : scores[1],\n",
        "    'roberta_pos' : scores[2]\n",
        "}\n",
        "print(scores_dict)"
      ],
      "metadata": {
        "execution": {
          "iopub.status.busy": "2024-09-10T06:45:42.653601Z",
          "iopub.status.idle": "2024-09-10T06:45:42.654106Z",
          "shell.execute_reply.started": "2024-09-10T06:45:42.653832Z",
          "shell.execute_reply": "2024-09-10T06:45:42.653865Z"
        },
        "trusted": true,
        "id": "rFE-o-Xr_LDo"
      },
      "execution_count": null,
      "outputs": []
    },
    {
      "cell_type": "code",
      "source": [
        "!pip install transformers\n"
      ],
      "metadata": {
        "execution": {
          "iopub.status.busy": "2024-09-10T06:45:42.656008Z",
          "iopub.status.idle": "2024-09-10T06:45:42.656525Z",
          "shell.execute_reply.started": "2024-09-10T06:45:42.656226Z",
          "shell.execute_reply": "2024-09-10T06:45:42.656274Z"
        },
        "trusted": true,
        "id": "RMi7HG3b_LDo"
      },
      "execution_count": null,
      "outputs": []
    },
    {
      "cell_type": "code",
      "source": [
        "from transformers import AutoTokenizer\n"
      ],
      "metadata": {
        "execution": {
          "iopub.status.busy": "2024-09-10T06:45:42.657857Z",
          "iopub.status.idle": "2024-09-10T06:45:42.658288Z",
          "shell.execute_reply.started": "2024-09-10T06:45:42.658051Z",
          "shell.execute_reply": "2024-09-10T06:45:42.658081Z"
        },
        "trusted": true,
        "id": "f5jnfc72_LDo"
      },
      "execution_count": null,
      "outputs": []
    },
    {
      "cell_type": "code",
      "source": [
        "def polarity_scores_roberta(example):\n",
        "    encoded_text = tokenizer(example, return_tensors='pt')\n",
        "    output = model(**encoded_text)\n",
        "    scores = output[0][0].detach().numpy()\n",
        "    scores = softmax(scores)\n",
        "    scores_dict = {\n",
        "        'roberta_neg' : scores[0],\n",
        "        'roberta_neu' : scores[1],\n",
        "        'roberta_pos' : scores[2]\n",
        "    }\n",
        "    return scores_dict"
      ],
      "metadata": {
        "execution": {
          "iopub.status.busy": "2024-09-10T06:45:42.660546Z",
          "iopub.status.idle": "2024-09-10T06:45:42.660909Z",
          "shell.execute_reply.started": "2024-09-10T06:45:42.660711Z",
          "shell.execute_reply": "2024-09-10T06:45:42.66074Z"
        },
        "trusted": true,
        "id": "QvSLHGG__LDo"
      },
      "execution_count": null,
      "outputs": []
    },
    {
      "cell_type": "code",
      "source": [
        "res = {}\n",
        "for i, row in tqdm(df.iterrows(), total=len(df)):\n",
        "    try:\n",
        "        text = row['Text']\n",
        "        myid = row['Id']\n",
        "        vader_result = sia.polarity_scores(text)\n",
        "        vader_result_rename = {}\n",
        "        for key, value in vader_result.items():\n",
        "            vader_result_rename[f\"vader_{key}\"] = value\n",
        "        roberta_result = polarity_scores_roberta(text)\n",
        "        both = {**vader_result_rename, **roberta_result}\n",
        "        res[myid] = both\n",
        "    except RuntimeError:\n",
        "        print(f'Broke for id {myid}')"
      ],
      "metadata": {
        "execution": {
          "iopub.status.busy": "2024-09-10T06:45:42.662129Z",
          "iopub.status.idle": "2024-09-10T06:45:42.662516Z",
          "shell.execute_reply.started": "2024-09-10T06:45:42.662319Z",
          "shell.execute_reply": "2024-09-10T06:45:42.662341Z"
        },
        "trusted": true,
        "id": "Q1S39NyW_LDo"
      },
      "execution_count": null,
      "outputs": []
    },
    {
      "cell_type": "code",
      "source": [
        "results_df = pd.DataFrame(res).T\n",
        "results_df = results_df.reset_index().rename(columns={'index': 'Id'})\n",
        "results_df = results_df.merge(df, how='left')"
      ],
      "metadata": {
        "execution": {
          "iopub.status.busy": "2024-09-10T06:45:42.663496Z",
          "iopub.status.idle": "2024-09-10T06:45:42.663839Z",
          "shell.execute_reply.started": "2024-09-10T06:45:42.663648Z",
          "shell.execute_reply": "2024-09-10T06:45:42.663667Z"
        },
        "trusted": true,
        "id": "xsBplQux_LDo"
      },
      "execution_count": null,
      "outputs": []
    },
    {
      "cell_type": "markdown",
      "source": [
        "## Compare Scores between models"
      ],
      "metadata": {
        "execution": {
          "iopub.status.busy": "2022-05-04T20:13:28.535656Z",
          "iopub.execute_input": "2022-05-04T20:13:28.535935Z",
          "iopub.status.idle": "2022-05-04T20:13:28.558465Z",
          "shell.execute_reply.started": "2022-05-04T20:13:28.535906Z",
          "shell.execute_reply": "2022-05-04T20:13:28.55787Z"
        },
        "id": "-xMNOI72_LDt"
      }
    },
    {
      "cell_type": "code",
      "source": [
        "results_df.columns"
      ],
      "metadata": {
        "execution": {
          "iopub.status.busy": "2024-09-10T06:45:42.665453Z",
          "iopub.status.idle": "2024-09-10T06:45:42.665819Z",
          "shell.execute_reply.started": "2024-09-10T06:45:42.665615Z",
          "shell.execute_reply": "2024-09-10T06:45:42.665635Z"
        },
        "trusted": true,
        "id": "-a1ppS5v_LDt"
      },
      "execution_count": null,
      "outputs": []
    },
    {
      "cell_type": "markdown",
      "source": [
        "# Step 3. Combine and compare"
      ],
      "metadata": {
        "id": "mFVC90Ga_LDt"
      }
    },
    {
      "cell_type": "code",
      "source": [
        "sns.pairplot(data=results_df,\n",
        "             vars=['vader_neg', 'vader_neu', 'vader_pos',\n",
        "                  'roberta_neg', 'roberta_neu', 'roberta_pos'],\n",
        "            hue='Score',\n",
        "            palette='tab10')\n",
        "plt.show()"
      ],
      "metadata": {
        "execution": {
          "iopub.status.busy": "2024-09-10T06:45:42.667595Z",
          "iopub.status.idle": "2024-09-10T06:45:42.667976Z",
          "shell.execute_reply.started": "2024-09-10T06:45:42.667771Z",
          "shell.execute_reply": "2024-09-10T06:45:42.667801Z"
        },
        "trusted": true,
        "id": "n5I1SQIs_LDt"
      },
      "execution_count": null,
      "outputs": []
    },
    {
      "cell_type": "markdown",
      "source": [
        "# Step 4: Review Examples:\n",
        "\n",
        "- Positive 1-Star and Negative 5-Star Reviews\n",
        "\n",
        "Lets look at some examples where the model scoring and review score differ the most."
      ],
      "metadata": {
        "id": "41bbbT-l_LDt"
      }
    },
    {
      "cell_type": "code",
      "source": [
        "results_df.query('Score == 1') \\\n",
        "    .sort_values('roberta_pos', ascending=False)['Text'].values[0]"
      ],
      "metadata": {
        "execution": {
          "iopub.status.busy": "2024-09-10T06:45:42.668977Z",
          "iopub.status.idle": "2024-09-10T06:45:42.66938Z",
          "shell.execute_reply.started": "2024-09-10T06:45:42.669142Z",
          "shell.execute_reply": "2024-09-10T06:45:42.66917Z"
        },
        "trusted": true,
        "id": "J_xuUZ4t_LDt"
      },
      "execution_count": null,
      "outputs": []
    },
    {
      "cell_type": "code",
      "source": [
        "results_df.query('Score == 1') \\\n",
        "    .sort_values('vader_pos', ascending=False)['Text'].values[0]"
      ],
      "metadata": {
        "execution": {
          "iopub.status.busy": "2024-09-10T06:45:42.671097Z",
          "iopub.status.idle": "2024-09-10T06:45:42.671484Z",
          "shell.execute_reply.started": "2024-09-10T06:45:42.671276Z",
          "shell.execute_reply": "2024-09-10T06:45:42.671308Z"
        },
        "trusted": true,
        "id": "xEgmXChq_LDu"
      },
      "execution_count": null,
      "outputs": []
    },
    {
      "cell_type": "code",
      "source": [
        "# nevative sentiment 5-Star view"
      ],
      "metadata": {
        "execution": {
          "iopub.status.busy": "2024-09-10T06:45:42.673316Z",
          "iopub.status.idle": "2024-09-10T06:45:42.673706Z",
          "shell.execute_reply.started": "2024-09-10T06:45:42.673487Z",
          "shell.execute_reply": "2024-09-10T06:45:42.673514Z"
        },
        "trusted": true,
        "id": "pFWsnFl8_LDu"
      },
      "execution_count": null,
      "outputs": []
    },
    {
      "cell_type": "code",
      "source": [
        "results_df.query('Score == 5') \\\n",
        "    .sort_values('roberta_neg', ascending=False)['Text'].values[0]"
      ],
      "metadata": {
        "execution": {
          "iopub.status.busy": "2024-09-10T06:45:42.675188Z",
          "iopub.status.idle": "2024-09-10T06:45:42.675574Z",
          "shell.execute_reply.started": "2024-09-10T06:45:42.67538Z",
          "shell.execute_reply": "2024-09-10T06:45:42.675401Z"
        },
        "trusted": true,
        "id": "gipmC3-l_LDu"
      },
      "execution_count": null,
      "outputs": []
    },
    {
      "cell_type": "code",
      "source": [
        "results_df.query('Score == 5') \\\n",
        "    .sort_values('vader_neg', ascending=False)['Text'].values[0]"
      ],
      "metadata": {
        "execution": {
          "iopub.status.busy": "2024-09-10T06:45:42.677395Z",
          "iopub.status.idle": "2024-09-10T06:45:42.677758Z",
          "shell.execute_reply.started": "2024-09-10T06:45:42.677564Z",
          "shell.execute_reply": "2024-09-10T06:45:42.677584Z"
        },
        "trusted": true,
        "id": "41YyLJHm_LDu"
      },
      "execution_count": null,
      "outputs": []
    },
    {
      "cell_type": "markdown",
      "source": [
        "# Extra: The Transformers Pipeline\n",
        "- Quick & easy way to run sentiment predictions"
      ],
      "metadata": {
        "id": "YoDJEYnF_LDu"
      }
    },
    {
      "cell_type": "code",
      "source": [
        "from transformers import pipeline\n",
        "\n",
        "sent_pipeline = pipeline(\"sentiment-analysis\")"
      ],
      "metadata": {
        "execution": {
          "iopub.status.busy": "2024-09-10T06:45:42.679135Z",
          "iopub.status.idle": "2024-09-10T06:45:42.679518Z",
          "shell.execute_reply.started": "2024-09-10T06:45:42.679323Z",
          "shell.execute_reply": "2024-09-10T06:45:42.679344Z"
        },
        "trusted": true,
        "id": "7eDJhxDR_LDu"
      },
      "execution_count": null,
      "outputs": []
    },
    {
      "cell_type": "code",
      "source": [
        "sent_pipeline('I love sentiment analysis!')"
      ],
      "metadata": {
        "execution": {
          "iopub.status.busy": "2024-09-10T06:45:42.680735Z",
          "iopub.status.idle": "2024-09-10T06:45:42.681127Z",
          "shell.execute_reply.started": "2024-09-10T06:45:42.6809Z",
          "shell.execute_reply": "2024-09-10T06:45:42.68093Z"
        },
        "trusted": true,
        "id": "7scXSMd7_LDv"
      },
      "execution_count": null,
      "outputs": []
    },
    {
      "cell_type": "code",
      "source": [
        "sent_pipeline('Make sure to like and subscribe!')"
      ],
      "metadata": {
        "execution": {
          "iopub.status.busy": "2024-09-10T06:45:42.682991Z",
          "iopub.status.idle": "2024-09-10T06:45:42.683529Z",
          "shell.execute_reply.started": "2024-09-10T06:45:42.683213Z",
          "shell.execute_reply": "2024-09-10T06:45:42.683241Z"
        },
        "trusted": true,
        "id": "Dg9QpO3j_LDv"
      },
      "execution_count": null,
      "outputs": []
    },
    {
      "cell_type": "code",
      "source": [
        "sent_pipeline('booo')"
      ],
      "metadata": {
        "execution": {
          "iopub.status.busy": "2024-09-10T06:45:42.684633Z",
          "iopub.status.idle": "2024-09-10T06:45:42.685136Z",
          "shell.execute_reply.started": "2024-09-10T06:45:42.684855Z",
          "shell.execute_reply": "2024-09-10T06:45:42.684883Z"
        },
        "trusted": true,
        "id": "Up-N465a_LDv"
      },
      "execution_count": null,
      "outputs": []
    },
    {
      "cell_type": "markdown",
      "source": [
        "# The End"
      ],
      "metadata": {
        "id": "HDvSHb_f_LDv"
      }
    }
  ]
}